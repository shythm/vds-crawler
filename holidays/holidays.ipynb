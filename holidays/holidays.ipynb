{
 "cells": [
  {
   "cell_type": "code",
   "execution_count": 24,
   "metadata": {},
   "outputs": [],
   "source": [
    "from datetime import datetime, timedelta\n",
    "import csv"
   ]
  },
  {
   "cell_type": "code",
   "execution_count": 25,
   "metadata": {},
   "outputs": [],
   "source": [
    "d = datetime(2019, 1, 1)\n",
    "dt = timedelta(days=1)\n",
    "\n",
    "output = [('날짜', '종류', '분류코드')]\n",
    "\n",
    "for i in range(365):\n",
    "    weekday = d.weekday()\n",
    "\n",
    "    if weekday == 5:\n",
    "        output.append((d.strftime('%Y%m%d'), '토요일', 1))\n",
    "    elif weekday == 6:\n",
    "        output.append((d.strftime('%Y%m%d'), '일요일', 1))\n",
    "\n",
    "    d = d + dt\n",
    "\n",
    "output\n",
    "with open('holidays_2019.csv', 'w') as f:\n",
    "    # using csv.writer method from CSV package\n",
    "    write = csv.writer(f)\n",
    "    write.writerows(output)"
   ]
  },
  {
   "cell_type": "code",
   "execution_count": null,
   "metadata": {},
   "outputs": [],
   "source": []
  }
 ],
 "metadata": {
  "kernelspec": {
   "display_name": "base",
   "language": "python",
   "name": "python3"
  },
  "language_info": {
   "codemirror_mode": {
    "name": "ipython",
    "version": 3
   },
   "file_extension": ".py",
   "mimetype": "text/x-python",
   "name": "python",
   "nbconvert_exporter": "python",
   "pygments_lexer": "ipython3",
   "version": "3.10.10"
  },
  "orig_nbformat": 4
 },
 "nbformat": 4,
 "nbformat_minor": 2
}
